{
 "cells": [
  {
   "cell_type": "markdown",
   "id": "7fc4c8e3",
   "metadata": {},
   "source": [
    "# SNPTMT user guide"
   ]
  },
  {
   "cell_type": "code",
   "execution_count": 1,
   "id": "ff196d23",
   "metadata": {},
   "outputs": [
    {
     "name": "stdout",
     "output_type": "stream",
     "text": [
      "Requirement already satisfied: SNPTMT==0.0.10 in /Library/Frameworks/Python.framework/Versions/3.10/lib/python3.10/site-packages (0.0.10)\n",
      "Note: you may need to restart the kernel to use updated packages.\n"
     ]
    }
   ],
   "source": [
    "pip install SNPTMT==0.0.10"
   ]
  },
  {
   "cell_type": "code",
   "execution_count": 2,
   "id": "144c16e3",
   "metadata": {},
   "outputs": [],
   "source": [
    "import SNPTMT.snptmt"
   ]
  },
  {
   "cell_type": "code",
   "execution_count": 3,
   "id": "bfc3b54e",
   "metadata": {},
   "outputs": [],
   "source": [
    "import pandas as pd\n",
    "import pymorphy2\n",
    "\n",
    "import nltk\n",
    "import ssl\n",
    "\n",
    "from nltk.tokenize import sent_tokenize, word_tokenize\n",
    "from nltk.corpus import stopwords\n",
    "\n",
    "import re\n",
    "\n",
    "import spacy\n",
    "\n",
    "from scipy.spatial.distance import cdist\n",
    "\n",
    "import scipy.cluster.hierarchy as sch\n",
    "from scipy.cluster.hierarchy import linkage, dendrogram\n",
    "\n",
    "from scipy.spatial.distance import cdist, squareform\n",
    "\n",
    "from scipy.cluster.hierarchy import fcluster\n",
    "\n",
    "import math\n",
    "import random"
   ]
  },
  {
   "cell_type": "code",
   "execution_count": 4,
   "id": "7abe7c92",
   "metadata": {},
   "outputs": [],
   "source": [
    "df = pd.read_csv('archive/db.csv', on_bad_lines='skip', sep='\\t')"
   ]
  },
  {
   "cell_type": "markdown",
   "id": "267a5464",
   "metadata": {},
   "source": [
    "# Prepare data for clustering"
   ]
  },
  {
   "cell_type": "code",
   "execution_count": 5,
   "id": "9ebadd73",
   "metadata": {},
   "outputs": [
    {
     "name": "stderr",
     "output_type": "stream",
     "text": [
      "[nltk_data] Downloading package stopwords to\n",
      "[nltk_data]     /Users/andrewshatalov/nltk_data...\n",
      "[nltk_data]   Package stopwords is already up-to-date!\n"
     ]
    }
   ],
   "source": [
    "SNPTMT.download_stopwords() # dowload package of nltk stopwords"
   ]
  },
  {
   "cell_type": "code",
   "execution_count": 6,
   "id": "1407cdc8",
   "metadata": {},
   "outputs": [
    {
     "name": "stdout",
     "output_type": "stream",
     "text": [
      "CPU times: user 4min 9s, sys: 625 ms, total: 4min 9s\n",
      "Wall time: 4min 9s\n"
     ]
    }
   ],
   "source": [
    "%%time\n",
    "df_without_stopwords = SNPTMT.delete_stopwords(df) #delete all stopwords from \"message\" column, except 'not' and 'не' на русском\n",
    "df_without_emojies = SNPTMT.delete_emojies(df_without_stopwords) #delete all emojies from \"message\" column\n",
    "df_without_signs = SNPTMT.delete_signs(df_without_emojies) #delete all signs from \"message\" column\n",
    "df_lemma = SNPTMT.lemmatization(df_without_signs) #lemmatization of all lines from \"message column\""
   ]
  },
  {
   "cell_type": "markdown",
   "id": "6acab6df",
   "metadata": {},
   "source": [
    "# First clutering"
   ]
  },
  {
   "cell_type": "code",
   "execution_count": 7,
   "id": "277ea763",
   "metadata": {},
   "outputs": [],
   "source": [
    "df = df_lemma"
   ]
  },
  {
   "cell_type": "code",
   "execution_count": 8,
   "id": "5831c29c",
   "metadata": {},
   "outputs": [],
   "source": [
    "start_message = 100 #starting from which message\n",
    "end_message = 150 #ending from which message"
   ]
  },
  {
   "cell_type": "markdown",
   "id": "3f7a82bc",
   "metadata": {},
   "source": [
    "There we should take into account that from first clustering there will be shift in indexes of all messages. In cluster_dict message number 0 will be actullay message nuber 100 in dataset. So if you want to print clusters you should add to each index start_message. ONLY start_message FROM FIRST CLUSTERING WILL MAKE THIS SHIFT, after that this shift will be the same in every clustering"
   ]
  },
  {
   "cell_type": "code",
   "execution_count": 9,
   "id": "354f5900",
   "metadata": {},
   "outputs": [
    {
     "data": {
      "image/png": "[encoded data removed]",
      "text/plain": [
       "<Figure size 640x480 with 1 Axes>"
      ]
     },
     "metadata": {},
     "output_type": "display_data"
    }
   ],
   "source": [
    "cluster_dict = SNPTMT.first_clustering(df, start_message, end_message) # the first clustering"
   ]
  },
  {
   "cell_type": "code",
   "execution_count": 10,
   "id": "a9364cdf",
   "metadata": {},
   "outputs": [
    {
     "data": {
      "text/plain": [
       "{2: [0, 2, 3, 4, 7, 8, 10, 14, 17, 19, 20, 28, 37, 38, 40, 43, 48],\n",
       " 9: [1, 11],\n",
       " 6: [5, 6, 12, 16, 23, 31, 32, 33, 39, 44, 47],\n",
       " 4: [9, 26, 34, 36, 46, 49],\n",
       " 5: [13, 27, 50],\n",
       " 1: [15, 24, 25, 30],\n",
       " 11: [18],\n",
       " 3: [21, 45],\n",
       " 7: [22, 35, 41],\n",
       " 10: [29],\n",
       " 8: [42]}"
      ]
     },
     "execution_count": 10,
     "metadata": {},
     "output_type": "execute_result"
    }
   ],
   "source": [
    "cluster_dict #cluster_dict with our indexes"
   ]
  },
  {
   "cell_type": "code",
   "execution_count": 11,
   "id": "163cb791",
   "metadata": {},
   "outputs": [],
   "source": [
    "def add_to_each_value(cluster_dict, start_message):\n",
    "    for key in cluster_dict:\n",
    "        cluster_dict[key] = [i + start_message for i in cluster_dict[key]]\n",
    "    return cluster_dict"
   ]
  },
  {
   "cell_type": "code",
   "execution_count": 12,
   "id": "83eca68a",
   "metadata": {},
   "outputs": [
    {
     "data": {
      "text/plain": [
       "{2: [100,\n",
       "  102,\n",
       "  103,\n",
       "  104,\n",
       "  107,\n",
       "  108,\n",
       "  110,\n",
       "  114,\n",
       "  117,\n",
       "  119,\n",
       "  120,\n",
       "  128,\n",
       "  137,\n",
       "  138,\n",
       "  140,\n",
       "  143,\n",
       "  148],\n",
       " 9: [101, 111],\n",
       " 6: [105, 106, 112, 116, 123, 131, 132, 133, 139, 144, 147],\n",
       " 4: [109, 126, 134, 136, 146, 149],\n",
       " 5: [113, 127, 150],\n",
       " 1: [115, 124, 125, 130],\n",
       " 11: [118],\n",
       " 3: [121, 145],\n",
       " 7: [122, 135, 141],\n",
       " 10: [129],\n",
       " 8: [142]}"
      ]
     },
     "execution_count": 12,
     "metadata": {},
     "output_type": "execute_result"
    }
   ],
   "source": [
    "add_to_each_value(cluster_dict, start_message) #cluser_dict with actual indexes"
   ]
  },
  {
   "cell_type": "code",
   "execution_count": 13,
   "id": "2823f7a6",
   "metadata": {},
   "outputs": [],
   "source": [
    "cluster_counters = SNPTMT.initialize_cluster_counters(cluster_dict) #initialize counter that needed to delete outdated clusters"
   ]
  },
  {
   "cell_type": "markdown",
   "id": "f1bacb7b",
   "metadata": {},
   "source": [
    "# Second clustering"
   ]
  },
  {
   "cell_type": "code",
   "execution_count": 14,
   "id": "6530c5d7",
   "metadata": {},
   "outputs": [],
   "source": [
    "cluster_dict_prev = cluster_dict"
   ]
  },
  {
   "cell_type": "code",
   "execution_count": 15,
   "id": "c326d26c",
   "metadata": {},
   "outputs": [],
   "source": [
    "cluster_dict = SNPTMT.add_points(df, 150, 200, cluster_dict) "
   ]
  },
  {
   "cell_type": "markdown",
   "id": "1cba2567",
   "metadata": {},
   "source": [
    "# Compare clusters to delete if outdated"
   ]
  },
  {
   "cell_type": "code",
   "execution_count": 16,
   "id": "65f616ed",
   "metadata": {},
   "outputs": [],
   "source": [
    "base_clusters = SNPTMT.find_base_clusters(cluster_dict_prev, cluster_dict) #find base_clusters between cluster_dict and cluster_dict_prev"
   ]
  },
  {
   "cell_type": "code",
   "execution_count": 17,
   "id": "6dcb6cc1",
   "metadata": {},
   "outputs": [],
   "source": [
    "cluster_dict, cluster_counters = SNPTMT.remove_outdated_clusters(cluster_dict, cluster_dict_prev,\n",
    "                                                                base_clusters, cluster_counters,\n",
    "                                                                50, 1)\n",
    "#add counters and delete if outdated"
   ]
  },
  {
   "cell_type": "code",
   "execution_count": 18,
   "id": "19b227f1",
   "metadata": {},
   "outputs": [
    {
     "data": {
      "text/plain": [
       "{12: [0, 9, 12, 20, 28, 44, 45, 48, 49, 51, 65],\n",
       " 8: [1, 2, 7, 8, 11, 18, 19, 21, 30, 31, 47, 52, 53, 55, 71, 76, 79],\n",
       " 3: [3, 17, 23, 40, 56, 58, 69, 77],\n",
       " 1: [4, 72],\n",
       " 4: [5, 16, 24, 33, 36],\n",
       " 11: [6, 10, 26, 35, 46, 70],\n",
       " 15: [13, 60],\n",
       " 9: [14, 22, 34, 57, 75],\n",
       " 5: [15],\n",
       " 6: [25, 39, 67],\n",
       " 7: [27, 64, 68, 73],\n",
       " 13: [29, 42, 43, 54, 59, 61, 62, 63],\n",
       " 14: [32, 66],\n",
       " 10: [37, 38, 41, 74, 78],\n",
       " 2: [50]}"
      ]
     },
     "execution_count": 18,
     "metadata": {},
     "output_type": "execute_result"
    }
   ],
   "source": [
    "cluster_dict"
   ]
  },
  {
   "cell_type": "code",
   "execution_count": 19,
   "id": "772480e5",
   "metadata": {},
   "outputs": [
    {
     "data": {
      "text/plain": [
       "{12: [100, 109, 112, 120, 128, 144, 145, 148, 149, 151, 165],\n",
       " 8: [101,\n",
       "  102,\n",
       "  107,\n",
       "  108,\n",
       "  111,\n",
       "  118,\n",
       "  119,\n",
       "  121,\n",
       "  130,\n",
       "  131,\n",
       "  147,\n",
       "  152,\n",
       "  153,\n",
       "  155,\n",
       "  171,\n",
       "  176,\n",
       "  179],\n",
       " 3: [103, 117, 123, 140, 156, 158, 169, 177],\n",
       " 1: [104, 172],\n",
       " 4: [105, 116, 124, 133, 136],\n",
       " 11: [106, 110, 126, 135, 146, 170],\n",
       " 15: [113, 160],\n",
       " 9: [114, 122, 134, 157, 175],\n",
       " 5: [115],\n",
       " 6: [125, 139, 167],\n",
       " 7: [127, 164, 168, 173],\n",
       " 13: [129, 142, 143, 154, 159, 161, 162, 163],\n",
       " 14: [132, 166],\n",
       " 10: [137, 138, 141, 174, 178],\n",
       " 2: [150]}"
      ]
     },
     "execution_count": 19,
     "metadata": {},
     "output_type": "execute_result"
    }
   ],
   "source": [
    "add_to_each_value(cluster_dict, start_message) #every clustering we add index shift from first one"
   ]
  },
  {
   "cell_type": "markdown",
   "id": "29786c9d",
   "metadata": {},
   "source": [
    "# Third clustering"
   ]
  },
  {
   "cell_type": "code",
   "execution_count": 20,
   "id": "3b75a8ee",
   "metadata": {},
   "outputs": [],
   "source": [
    "cluster_dict_prev = cluster_dict"
   ]
  },
  {
   "cell_type": "code",
   "execution_count": 21,
   "id": "ad2308a0",
   "metadata": {},
   "outputs": [],
   "source": [
    "cluster_dict = SNPTMT.add_points(df, 200, 250, cluster_dict)"
   ]
  },
  {
   "cell_type": "code",
   "execution_count": 22,
   "id": "a269ddf2",
   "metadata": {},
   "outputs": [],
   "source": [
    "base_clusters = SNPTMT.find_base_clusters(cluster_dict_prev, cluster_dict)"
   ]
  },
  {
   "cell_type": "code",
   "execution_count": 23,
   "id": "ca7743f2",
   "metadata": {},
   "outputs": [],
   "source": [
    "cluster_dict, cluster_counters = SNPTMT.remove_outdated_clusters(cluster_dict, cluster_dict_prev,\n",
    "                                                                base_clusters, cluster_counters,\n",
    "                                                                50, 1)"
   ]
  }
 ],
 "metadata": {
  "kernelspec": {
   "display_name": "Python 3 (ipykernel)",
   "language": "python",
   "name": "python3"
  },
  "language_info": {
   "codemirror_mode": {
    "name": "ipython",
    "version": 3
   },
   "file_extension": ".py",
   "mimetype": "text/x-python",
   "name": "python",
   "nbconvert_exporter": "python",
   "pygments_lexer": "ipython3",
   "version": "3.10.8"
  }
 },
 "nbformat": 4,
 "nbformat_minor": 5
}
